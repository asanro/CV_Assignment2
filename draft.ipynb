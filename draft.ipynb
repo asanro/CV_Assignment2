{
 "cells": [
  {
   "cell_type": "code",
   "execution_count": 3,
   "metadata": {
    "collapsed": true
   },
   "outputs": [],
   "source": [
    "import cv2 as cv"
   ]
  },
  {
   "cell_type": "code",
   "execution_count": 4,
   "outputs": [],
   "source": [
    "# capture the background video\n",
    "\n",
    "for c in range(1, 5):\n",
    "    path_cam = f'data/cam{c}/'\n",
    "    cap = cv.VideoCapture(path_cam + 'video.avi')\n",
    "\n",
    "    # train the background model\n",
    "    while True:\n",
    "        ret, frame = cap.read()\n",
    "        if not ret:\n",
    "            break\n",
    "        cv.imwrite(path_cam + 'video.png', frame)\n",
    "        # Show the final mask\n",
    "        cv.imshow('frame', frame)\n",
    "\n",
    "     # Release the camera and close all windows\n",
    "    cap.release()\n",
    "    cv.destroyAllWindows()\n",
    "\n"
   ],
   "metadata": {
    "collapsed": false
   }
  },
  {
   "cell_type": "code",
   "execution_count": null,
   "outputs": [],
   "source": [],
   "metadata": {
    "collapsed": false
   }
  }
 ],
 "metadata": {
  "kernelspec": {
   "display_name": "Python 3",
   "language": "python",
   "name": "python3"
  },
  "language_info": {
   "codemirror_mode": {
    "name": "ipython",
    "version": 2
   },
   "file_extension": ".py",
   "mimetype": "text/x-python",
   "name": "python",
   "nbconvert_exporter": "python",
   "pygments_lexer": "ipython2",
   "version": "2.7.6"
  }
 },
 "nbformat": 4,
 "nbformat_minor": 0
}
